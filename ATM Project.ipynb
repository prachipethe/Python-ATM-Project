{
 "cells": [
  {
   "cell_type": "code",
   "execution_count": null,
   "id": "f1400425",
   "metadata": {},
   "outputs": [
    {
     "name": "stdout",
     "output_type": "stream",
     "text": [
      "Welcome to BOI bank ATM\n",
      "Please select an option:\n",
      "            1. Set PIN\n",
      "            2. Check Balance\n",
      "            3. Deposit\n",
      "            4. Withdraw\n",
      "            5. Exit\n"
     ]
    }
   ],
   "source": [
    "\n",
    "atm = ATM(\"BOI\")\n",
    "\n",
    "class ATM:\n",
    "    def __init__(self, bank_name):\n",
    "        self.name = bank_name\n",
    "        self.pin = None\n",
    "        self.balance = 0\n",
    "        print(\"Welcome to {} bank ATM\".format(self.name))\n",
    "        self.menu()\n",
    "\n",
    "    def menu(self):\n",
    "        while True:\n",
    "            print(\"\"\"Please select an option:\n",
    "            1. Set PIN\n",
    "            2. Check Balance\n",
    "            3. Deposit\n",
    "            4. Withdraw\n",
    "            5. Exit\"\"\")\n",
    "            choice = input(\"Enter your choice: \")\n",
    "\n",
    "            if choice == '1':\n",
    "                self.set_pin()\n",
    "            elif choice == '2':\n",
    "                self.check_balance()\n",
    "            elif choice == '3':\n",
    "                self.deposit()\n",
    "            elif choice == '4':\n",
    "                self.withdraw()\n",
    "            elif choice == '5':\n",
    "                print(\"Thank you for banking with {}.\".format(self.name))\n",
    "                break\n",
    "            else:\n",
    "                print(\"Invalid choice. Please try again.\")\n",
    "\n",
    "    def set_pin(self):\n",
    "        self.pin = input(\"Enter a new PIN: \")\n",
    "        print(\"PIN set successfully.\")\n",
    "    \n",
    "    def check_balance(self):\n",
    "        check_pin = input(\"Enter your PIN: \")\n",
    "        if check_pin == self.pin:\n",
    "            print(\"Your account balance is\", self.balance)\n",
    "        else:\n",
    "            print(\"Wrong PIN.\")\n",
    "            print(\"Thank you for banking with {}.\".format(self.name))\n",
    "\n",
    "    def deposit(self):\n",
    "        check_pin = input(\"Enter your PIN: \")\n",
    "        if check_pin == self.pin:\n",
    "            amount = int(input(\"Enter amount to deposit: \"))\n",
    "            self.balance += amount\n",
    "            print(f\"${amount} deposited successfully.\")\n",
    "        else:\n",
    "            print(\"Wrong PIN.\")\n",
    "            print(\"Thank you for banking with {}.\".format(self.name))\n",
    "\n",
    "    def withdraw(self):\n",
    "        check_pin = input(\"Enter your PIN: \")\n",
    "        if check_pin == self.pin:\n",
    "            amount = int(input(\"Enter amount to withdraw: \"))\n",
    "            if amount <= self.balance:\n",
    "                self.balance -= amount\n",
    "                print(f\"${amount} withdrawn successfully.\")\n",
    "            else:\n",
    "                print(\"Insufficient funds.\")\n",
    "        else:\n",
    "            print(\"Wrong PIN.\")\n",
    "            print(\"Thank you for banking with {}.\".format(self.name))\n",
    "\n",
    "# Example usage\n",
    "\n",
    "\n"
   ]
  },
  {
   "cell_type": "code",
   "execution_count": null,
   "id": "7ccf42cb",
   "metadata": {},
   "outputs": [],
   "source": []
  },
  {
   "cell_type": "code",
   "execution_count": null,
   "id": "f952e072",
   "metadata": {},
   "outputs": [],
   "source": []
  },
  {
   "cell_type": "code",
   "execution_count": null,
   "id": "b7df288b",
   "metadata": {},
   "outputs": [],
   "source": []
  }
 ],
 "metadata": {
  "kernelspec": {
   "display_name": "Python 3 (ipykernel)",
   "language": "python",
   "name": "python3"
  },
  "language_info": {
   "codemirror_mode": {
    "name": "ipython",
    "version": 3
   },
   "file_extension": ".py",
   "mimetype": "text/x-python",
   "name": "python",
   "nbconvert_exporter": "python",
   "pygments_lexer": "ipython3",
   "version": "3.10.10"
  }
 },
 "nbformat": 4,
 "nbformat_minor": 5
}
